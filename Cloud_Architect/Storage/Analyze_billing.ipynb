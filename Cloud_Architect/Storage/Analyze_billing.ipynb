{
 "cells": [
  {
   "cell_type": "markdown",
   "metadata": {},
   "source": [
    "## See how many lines of billing data"
   ]
  },
  {
   "cell_type": "code",
   "execution_count": null,
   "metadata": {
    "vscode": {
     "languageId": "sql"
    }
   },
   "outputs": [],
   "source": [
    "SELECT\n",
    "  product,\n",
    "  resource_type,\n",
    "  start_time,\n",
    "  end_time,\n",
    "  cost,\n",
    "  project_id,\n",
    "  project_name,\n",
    "  project_labels_key,\n",
    "  currency,\n",
    "  currency_conversion_rate,\n",
    "  usage_amount,\n",
    "  usage_unit\n",
    "FROM\n",
    "  `cloud-training-prod-bucket.arch_infra.billing_data`"
   ]
  },
  {
   "cell_type": "markdown",
   "metadata": {},
   "source": [
    "## See which product has the most billing records"
   ]
  },
  {
   "cell_type": "code",
   "execution_count": null,
   "metadata": {
    "vscode": {
     "languageId": "sql"
    }
   },
   "outputs": [],
   "source": [
    "SELECT\n",
    "  product,\n",
    "  COUNT(*) AS billing_records\n",
    "FROM\n",
    "  `cloud-training-prod-bucket.arch_infra.billing_data`\n",
    "WHERE\n",
    "  cost > 1\n",
    "GROUP BY\n",
    "  product\n",
    "ORDER BY\n",
    "  billing_records DESC"
   ]
  },
  {
   "cell_type": "markdown",
   "metadata": {},
   "source": [
    "## Find the most commonly charged unit of measure"
   ]
  },
  {
   "cell_type": "code",
   "execution_count": null,
   "metadata": {
    "vscode": {
     "languageId": "sql"
    }
   },
   "outputs": [],
   "source": [
    "SELECT\n",
    "  usage_unit,\n",
    "  COUNT(*) AS billing_records\n",
    "FROM\n",
    "  `cloud-training-prod-bucket.arch_infra.billing_data`\n",
    "WHERE cost > 0\n",
    "GROUP BY\n",
    "  usage_unit\n",
    "ORDER BY\n",
    "  billing_records DESC"
   ]
  },
  {
   "cell_type": "markdown",
   "metadata": {},
   "source": [
    "## Find which product has the gighest aggreate cost"
   ]
  },
  {
   "cell_type": "code",
   "execution_count": null,
   "metadata": {
    "vscode": {
     "languageId": "sql"
    }
   },
   "outputs": [],
   "source": [
    "SELECT\n",
    "  product,\n",
    "  ROUND(SUM(cost),2) AS total_cost\n",
    "FROM\n",
    "  `cloud-training-prod-bucket.arch_infra.billing_data`\n",
    "GROUP BY\n",
    "  product\n",
    "ORDER BY\n",
    "  total_cost DESC"
   ]
  }
 ],
 "metadata": {
  "language_info": {
   "name": "python"
  },
  "orig_nbformat": 4
 },
 "nbformat": 4,
 "nbformat_minor": 2
}
